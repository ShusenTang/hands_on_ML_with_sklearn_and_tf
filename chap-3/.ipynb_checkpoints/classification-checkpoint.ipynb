{
 "cells": [
  {
   "cell_type": "markdown",
   "metadata": {},
   "source": [
    "# 三、分类\n",
    "## MNIST"
   ]
  },
  {
   "cell_type": "code",
   "execution_count": 1,
   "metadata": {},
   "outputs": [
    {
     "name": "stdout",
     "output_type": "stream",
     "text": [
      "Extracting ../datasets/MNIST_data/train-images-idx3-ubyte.gz\n",
      "Extracting ../datasets/MNIST_data/train-labels-idx1-ubyte.gz\n",
      "Extracting ../datasets/MNIST_data/t10k-images-idx3-ubyte.gz\n",
      "Extracting ../datasets/MNIST_data/t10k-labels-idx1-ubyte.gz\n",
      "<class 'numpy.ndarray'> (60000, 784) (60000,) (10000, 784)\n"
     ]
    }
   ],
   "source": [
    "# from sklearn.datasets import fetch_mldata\n",
    "# mnist = fetch_mldata('MNIST original')\n",
    "from tensorflow.examples.tutorials.mnist import input_data\n",
    "import numpy as np\n",
    "\n",
    "# 1. 读取数据集，第一次TensorFlow会自动下载数据集到下面的路径中\n",
    "mnist = input_data.read_data_sets(\"../datasets/MNIST_data/\", one_hot=False)\n",
    "\n",
    "X_train = np.vstack([img.reshape(-1,) for img in mnist.train.images])\n",
    "y_train = mnist.train.labels\n",
    "\n",
    "X_valid = np.vstack([img.reshape(-1,) for img in mnist.validation.images])\n",
    "y_valid = mnist.validation.labels\n",
    "\n",
    "X_test = np.vstack([img.reshape(-1,) for img in mnist.test.images])\n",
    "y_test = mnist.test.labels\n",
    "\n",
    "\n",
    "# 本章使用交叉验证，所以不用验证集，将验证集加入训练集\n",
    "X_train = np.append(X_train, X_valid, axis = 0)\n",
    "y_train = np.append(y_train, y_valid)\n",
    "\n",
    "# 打乱训练集\n",
    "shuffle_index = np.random.permutation(X_train.shape[0])\n",
    "X_train, y_train = X_train[shuffle_index], y_train[shuffle_index]\n",
    "\n",
    "print(type(X_train), X_train.shape,  y_train.shape, X_test.shape)"
   ]
  },
  {
   "cell_type": "code",
   "execution_count": 2,
   "metadata": {},
   "outputs": [
    {
     "data": {
      "image/png": "[encoded data removed]",
      "text/plain": [
       "<Figure size 432x288 with 1 Axes>"
      ]
     },
     "metadata": {},
     "output_type": "display_data"
    },
    {
     "name": "stdout",
     "output_type": "stream",
     "text": [
      "3\n"
     ]
    }
   ],
   "source": [
    "# 数据示例\n",
    "%matplotlib inline\n",
    "import matplotlib\n",
    "import matplotlib.pyplot as plt\n",
    "some_digit = X_train[59999]\n",
    "some_digit_image = some_digit.reshape(28, 28)\n",
    "plt.imshow(some_digit_image, cmap = matplotlib.cm.binary, interpolation=\"nearest\")\n",
    "plt.axis(\"off\")\n",
    "plt.show()\n",
    "print(y_train[59999])"
   ]
  },
  {
   "cell_type": "markdown",
   "metadata": {},
   "source": [
    "## 二分类器(5和非5)\n",
    "分类器选择 Scikit-Learn 的SGDClassifier类。这个分类器有一个好处是能够高效地处理非常大的数据集。这部分原因在于SGD一次只处理一条数据，这也使得 SGD 适合在线学习（online learning）。后面还用了一个很笨的分类器：始终预测为非5"
   ]
  },
  {
   "cell_type": "code",
   "execution_count": 3,
   "metadata": {},
   "outputs": [
    {
     "name": "stdout",
     "output_type": "stream",
     "text": [
      "[ True]\n"
     ]
    }
   ],
   "source": [
    "from sklearn.linear_model import SGDClassifier\n",
    "\n",
    "y_train_5 = (y_train == 5) # True for all 5s, False for all other digits.\n",
    "y_test_5 = (y_test == 5)\n",
    "\n",
    "# 在0.19的版本中，SDGClassifier默认的迭代次数max_iter是5，0.21版本默认的迭代次数是1000，\n",
    "# 要想不出现warnings只需手动设定SDGClassifier的迭代次数max_iter\n",
    "sgd_clf = SGDClassifier(max_iter=10, random_state=42) # 如果你想重现结果，你应该固定参数random_state\n",
    "sgd_clf.fit(X_train, y_train_5)\n",
    "print(sgd_clf.predict([some_digit]))\n",
    "\n",
    "\n",
    "# 再定义一个很笨的分类器：始终预测为非5\n",
    "from sklearn.base import BaseEstimator\n",
    "class Never5Classifier(BaseEstimator):\n",
    "    def fit(self, X, y=None):\n",
    "        pass\n",
    "    def predict(self, X):\n",
    "        return np.zeros((len(X), 1), dtype=bool)\n",
    "\n",
    "never_5_clf = Never5Classifier()"
   ]
  },
  {
   "cell_type": "markdown",
   "metadata": {},
   "source": [
    "### 交叉验证模型：使用精度评估\n",
    "从下面结果，笨的分类器也有 90% 的精度。这是因为只有 10% 的图片是数字 5，所以你总是猜测某张图片不是 5，你也会有90%的可能性是对的。\n",
    "这证明了为什么精度通常来说不是一个好的性能度量指标，特别是当你处理有偏差的数据集，比方说其中一些类比其他类频繁得多。"
   ]
  },
  {
   "cell_type": "code",
   "execution_count": 4,
   "metadata": {},
   "outputs": [
    {
     "name": "stdout",
     "output_type": "stream",
     "text": [
      "SGDClassifier精度:  [0.9653  0.96655 0.9699 ]\n",
      "始终预测非5分类器精度: [0.90975 0.9102  0.909  ]\n"
     ]
    }
   ],
   "source": [
    "from sklearn.model_selection import cross_val_score\n",
    "print(\"SGDClassifier精度: \",cross_val_score(sgd_clf, X_train, y_train_5, cv=3, scoring=\"accuracy\"))\n",
    "print(\"始终预测非5分类器精度:\",cross_val_score(never_5_clf, X_train, y_train_5, cv=3, scoring=\"accuracy\"))"
   ]
  },
  {
   "cell_type": "markdown",
   "metadata": {},
   "source": [
    "### 交叉验证模型：使用更有效的评估指标（混淆矩阵、准确率与召回率、F1值）\n",
    "混淆矩阵：输出类别A被分类成类别 B 的次数。为了知道分类器将第i类分为第j类的次数，你需要查看混淆矩阵的第i行第j列。   \n",
    "准确率：正例预测的精度，也叫做分类器的准确率（precision）= 真正例/(真正例+假正例)  \n",
    "召回率：召回率（recall）也叫做敏感度（sensitivity）或者真正例率（TPR)。这是正例被分类器正确探测出的比率。= 真正例/(真正例+假反例)  \n",
    "F1值：通常结合准确率和召回率会更加方便，这个指标叫做 F1 值, F1 值是准确率和召回率的调和平均: F1 = 2/(1/precison + 1/recall)"
   ]
  },
  {
   "cell_type": "code",
   "execution_count": 5,
   "metadata": {},
   "outputs": [
    {
     "name": "stdout",
     "output_type": "stream",
     "text": [
      "[[53913   666]\n",
      " [ 1299  4122]] \n",
      "完美的分类器的混淆矩阵非零值仅在其主对角线\n",
      "\n",
      "准确率 = 真正例/(真正例+假正例): 0.8609022556390977\n",
      "召回率 = 真正例/(真正例+假反例): 0.7603763143331489\n",
      "F1值 = 2/(1/precison + 1/recall): 0.807522774022921\n"
     ]
    }
   ],
   "source": [
    "# 混淆矩阵confusion_matrix()\n",
    "from sklearn.model_selection import cross_val_predict\n",
    "from sklearn.metrics import confusion_matrix\n",
    "y_train_pred = cross_val_predict(sgd_clf, X_train, y_train_5, cv=3) # 不是返回一个评估分数，而返回基于每个测试折做出的一个预测值\n",
    "print(confusion_matrix(y_train_5, y_train_pred), \"\\n完美的分类器的混淆矩阵非零值仅在其主对角线\\n\")\n",
    "\n",
    "# 准确率和召回率\n",
    "from sklearn.metrics import precision_score, recall_score\n",
    "print(\"准确率 = 真正例/(真正例+假正例):\", precision_score(y_train_5, y_train_pred))\n",
    "print(\"召回率 = 真正例/(真正例+假反例):\", recall_score(y_train_5, y_train_pred))\n",
    "\n",
    "# F1 值\n",
    "from sklearn.metrics import f1_score\n",
    "print(\"F1值 = 2/(1/precison + 1/recall):\", f1_score(y_train_5, y_train_pred))"
   ]
  },
  {
   "cell_type": "markdown",
   "metadata": {},
   "source": [
    "### 准确率和召回率的折中\n",
    "在SGDClassifier中，对于每个样例，它根据决策函数计算分数,如果这个分数大于一个阈值，它会将样例分配给正例，否则它将分配给反例。调用decision_function()方法。这个方法返回每一个样例的分数值，然后基于这个分数值，使用你想要的任何阈值做出预测。"
   ]
  },
  {
   "cell_type": "code",
   "execution_count": 6,
   "metadata": {},
   "outputs": [
    {
     "name": "stdout",
     "output_type": "stream",
     "text": [
      "[1.46769943]\n"
     ]
    },
    {
     "data": {
      "image/png": "[encoded data removed]",
      "text/plain": [
       "<Figure size 432x288 with 1 Axes>"
      ]
     },
     "metadata": {},
     "output_type": "display_data"
    },
    {
     "name": "stdout",
     "output_type": "stream",
     "text": [
      "现在可以根据上图选择适合任务的最佳阈值。\n",
      "\n",
      "另一个选出好的准确率/召回率折衷的方法是直接画出准确率对召回率的曲线(PR曲线，越靠近右上角就越好):\n"
     ]
    },
    {
     "data": {
      "image/png": "[encoded data removed]",
      "text/plain": [
       "<Figure size 432x288 with 1 Axes>"
      ]
     },
     "metadata": {},
     "output_type": "display_data"
    },
    {
     "name": "stdout",
     "output_type": "stream",
     "text": [
      "准确率： 0.9514426460239268  召回率： 0.4988009592326139\n"
     ]
    }
   ],
   "source": [
    "# 单个示例\n",
    "y_scores = sgd_clf.decision_function([some_digit])\n",
    "print(y_scores)\n",
    "\n",
    "# 应该如何使用哪个阈值呢？首先，你需要再次使用cross_val_predict()得到每一个样例的分数值，但是这一次指定返回一个决策分数，而不是预测值。\n",
    "y_scores = cross_val_predict(sgd_clf, X_train, y_train_5, cv=3, method=\"decision_function\")\n",
    "\n",
    "# 现在有了这些分数值。对于任何可能的阈值，使用precision_recall_curve()计算所有准确率和召回率:\n",
    "from sklearn.metrics import precision_recall_curve\n",
    "precisions, recalls, thresholds = precision_recall_curve(y_train_5, y_scores)\n",
    "\n",
    "# 最后，你可以使用 Matplotlib 画出准确率和召回率，这里把准确率和召回率当作是阈值的一个函数。\n",
    "def plot_precision_recall_vs_threshold(precisions, recalls, thresholds):\n",
    "    plt.plot(thresholds, precisions[:-1], \"b--\", label=\"Precision\")\n",
    "    plt.plot(thresholds, recalls[:-1], \"g-\", label=\"Recall\")\n",
    "    plt.xlabel(\"Threshold\")\n",
    "    plt.legend(loc=\"upper left\")\n",
    "    plt.ylim([0, 1])\n",
    "plot_precision_recall_vs_threshold(precisions, recalls, thresholds)\n",
    "plt.show()\n",
    "print(\"现在可以根据上图选择适合任务的最佳阈值。\")\n",
    "\n",
    "print(\"\\n另一个选出好的准确率/召回率折衷的方法是直接画出准确率对召回率的曲线(PR曲线，越靠近右上角就越好):\")\n",
    "plt.plot(recalls, precisions)\n",
    "plt.xlabel(\"recall\"), plt.ylabel(\"Precession\")\n",
    "plt.show()\n",
    "\n",
    "# 从上图看出召回率在 80% 左右的时候，准确率急剧下降，所以选择召回率0.8左右较好，此时阈值为0左右。\n",
    "# 如果项目要求召回率为 50% ，那么阈值应该选择2左右：\n",
    "y_train_pred_recall_50 = (y_scores > 2)\n",
    "# 让我们检查这些预测的准确率和召回率：\n",
    "print(\"准确率：\",precision_score(y_train_5, y_train_pred_recall_50), \" 召回率：\",recall_score(y_train_5, y_train_pred_recall_50))"
   ]
  },
  {
   "cell_type": "markdown",
   "metadata": {},
   "source": [
    "### ROC曲线\n",
    "受试者工作特征（ROC）曲线是另一个二分类器常用的工具。它非常类似与准确率/召回率曲线，但不是画出准确率对召回率的曲线，ROC 曲线是真正例率（true positive rate，就是召回率）对假正例率（false positive rate, FPR）的曲线。FPR 是反例被错误分成正例的比率。它等于 1 减去真反例率（true negative rate， TNR）。TNR是反例被正确分类的比率。TNR也叫做特异性。所以 ROC 曲线画出召回率对（1 减特异性）的曲线。"
   ]
  },
  {
   "cell_type": "code",
   "execution_count": 7,
   "metadata": {},
   "outputs": [
    {
     "data": {
      "image/png": "[encoded data removed]",
      "text/plain": [
       "<Figure size 432x288 with 1 Axes>"
      ]
     },
     "metadata": {},
     "output_type": "display_data"
    },
    {
     "name": "stdout",
     "output_type": "stream",
     "text": [
      "上图中的点线是一个完全随机的分类器生成的 ROC 曲线；一个好的分类器的 ROC 曲线应该尽可能远离这条线（即向左上角方向靠拢）。\n",
      "\n",
      "ROC曲线下面积（AUC）: 0.9651455306840195\n"
     ]
    }
   ],
   "source": [
    "# 为了画出 ROC 曲线，你首先需要计算各种不同阈值下的 TPR、FPR，使用roc_curve()函数：\n",
    "from sklearn.metrics import roc_curve\n",
    "fpr, tpr, thresholds = roc_curve(y_train_5, y_scores)\n",
    "\n",
    "def plot_roc_curve(fpr, tpr, label=None):\n",
    "    plt.plot(fpr, tpr, linewidth=2, label=label)\n",
    "    plt.plot([0, 1], [0, 1], 'k--')\n",
    "    plt.axis([0, 1, 0, 1]) # 设置坐标都为0-1\n",
    "    plt.xlabel('False Positive Rate')\n",
    "    plt.ylabel('True Positive Rate')\n",
    "plot_roc_curve(fpr, tpr)\n",
    "plt.show()\n",
    "print(\"上图中的点线是一个完全随机的分类器生成的 ROC 曲线；一个好的分类器的 ROC 曲线应该尽可能远离这条线（即向左上角方向靠拢）。\")\n",
    "\n",
    "# 一个比较分类器之间优劣的方法是：测量ROC曲线下的面积（AUC）。一个完美的分类器的 ROC AUC 等于 1，而一个纯随机分类器的 ROC AUC 等于 0.5。\n",
    "# Scikit-Learn 提供了一个函数来计算 ROC AUC：\n",
    "from sklearn.metrics import roc_auc_score\n",
    "print(\"\\nROC曲线下面积（AUC）:\", roc_auc_score(y_train_5, y_scores))"
   ]
  },
  {
   "cell_type": "markdown",
   "metadata": {},
   "source": [
    "### RandomForestClassifier 和 SGDClassifier的ROC比较\n",
    "ROC 曲线跟准确率/召回率曲线（PR曲线）很类似，你或许会好奇如何决定使用哪一个曲线呢？一个笨拙的规则是，正例很少时优先使用 PR 曲线，或者当你关注假正例多于假反例的时候。其他情况使用 ROC 曲线。举例子，回顾前面的 ROC 曲线和 ROC AUC 数值，你或许认为这个分类器很棒。但是这几乎全是因为只有少数正例（“是 5”），而大部分是反例（“非 5”）。相反，PR 曲线清楚显示出这个分类器还有很大的改善空间（PR 曲线应该尽可能地靠近右上角）。"
   ]
  },
  {
   "cell_type": "code",
   "execution_count": 8,
   "metadata": {},
   "outputs": [
    {
     "name": "stderr",
     "output_type": "stream",
     "text": [
      "/Users/tangshusen/anaconda3/envs/py36/lib/python3.6/site-packages/matplotlib/legend.py:641: UserWarning: Unrecognized location \"bottom right\". Falling back on \"best\"; valid locations are\n",
      "\tbest\n",
      "\tupper right\n",
      "\tupper left\n",
      "\tlower left\n",
      "\tlower right\n",
      "\tright\n",
      "\tcenter left\n",
      "\tcenter right\n",
      "\tlower center\n",
      "\tupper center\n",
      "\tcenter\n",
      "\n",
      "  % (loc, '\\n\\t'.join(self.codes)))\n"
     ]
    },
    {
     "data": {
      "image/png": "[encoded data removed]",
      "text/plain": [
       "<Figure size 432x288 with 1 Axes>"
      ]
     },
     "metadata": {},
     "output_type": "display_data"
    },
    {
     "name": "stdout",
     "output_type": "stream",
     "text": [
      "由上图知，RandomForestClassifier的 ROC 曲线比SGDClassifier的好得多：它更靠近左上角。\n",
      "所以，它的 ROC AUC 也会更大: 0.9921616863011036\n"
     ]
    }
   ],
   "source": [
    "from sklearn.ensemble import RandomForestClassifier\n",
    "forest_clf = RandomForestClassifier(random_state=42)\n",
    "# 由于随机森林的工作方式，RandomForestClassifier不提供decision_function()方法。\n",
    "# 相反，它提供了predict_proba()方法【Skikit-Learn分类器通常会提供二者中的一个】\n",
    "# predict_proba()方法返回一个数组，数组的每一行代表一个样例，每一列代表一个类。数组当中的值的意思是：给定一个样例属于给定类的概率\n",
    "y_probas_forest = cross_val_predict(forest_clf, X_train, y_train_5, cv=3, method=\"predict_proba\")\n",
    "\n",
    "# 要画 ROC 曲线，你需要的是样例的分数，而不是概率。一个简单的解决方法是使用正例的概率当作样例的分数。\n",
    "y_scores_forest = y_probas_forest[:, 1] # score = proba of positive class\n",
    "fpr_forest, tpr_forest, thresholds_forest = roc_curve(y_train_5,y_scores_forest)\n",
    "\n",
    "plt.plot(fpr, tpr, \"b:\", label=\"SGD\")\n",
    "plot_roc_curve(fpr_forest, tpr_forest, \"Random Forest\")\n",
    "plt.legend(loc=\"bottom right\")\n",
    "plt.show()\n",
    "print(\"由上图知，RandomForestClassifier的 ROC 曲线比SGDClassifier的好得多：它更靠近左上角。\\n所以，它的 ROC AUC 也会更大:\", roc_auc_score(y_train_5, y_scores_forest))"
   ]
  },
  {
   "cell_type": "markdown",
   "metadata": {},
   "source": [
    "## 多分类器\n",
    "一些算法（比如随机森林分类器或者朴素贝叶斯分类器）可以直接处理多类分类问题。其他一些算法（比如 SVM 分类器或者线性分类器）则是严格的二分类器。然后，有许多策略可以让你用二分类器去执行多类分类（一对其他OvR，一对一OvO）。\n",
    "\n",
    "Scikit-Learn 可以探测出你想使用一个二分类器去完成多分类的任务，它会自动地执行 OvR（除了 SVM 分类器，它使用 OvO）。让我们试一下SGDClassifier."
   ]
  },
  {
   "cell_type": "code",
   "execution_count": 9,
   "metadata": {},
   "outputs": [
    {
     "name": "stdout",
     "output_type": "stream",
     "text": [
      "[3]\n",
      "[[ -9.54427663  -9.56950322  -8.38756355   1.75412141 -10.56417562\n",
      "    1.46769943 -14.04522885  -7.86636147  -7.72572579  -9.35940075]]\n",
      "[3]\n",
      "[[0.1 0.  0.  0.9 0.  0.  0.  0.  0.  0. ]]\n",
      "[0.8815237  0.88724436 0.87923188]\n"
     ]
    }
   ],
   "source": [
    "sgd_clf.fit(X_train, y_train) # y_train, not y_train_5\n",
    "print(sgd_clf.predict([some_digit]))\n",
    "\n",
    "# 在幕后，Scikit-Learn 实际上训练了 10 个二分类器，选择数值最高的那个类。你可以调用decision_function()方法查看\n",
    "some_digit_scores = sgd_clf.decision_function([some_digit])\n",
    "print(some_digit_scores)\n",
    "\n",
    "# 随机森林分类器能够直接将一个样例分到多个类别,训练一个RandomForestClassifier：\n",
    "forest_clf.fit(X_train, y_train)\n",
    "print(forest_clf.predict([some_digit]))\n",
    "print(forest_clf.predict_proba([some_digit])) # 得到样例对应的类别的概率值的列表\n",
    "\n",
    "# 交叉验证评估\n",
    "print(cross_val_score(sgd_clf, X_train, y_train, cv=3, scoring=\"accuracy\"))"
   ]
  },
  {
   "cell_type": "markdown",
   "metadata": {},
   "source": [
    "## 误差分析\n",
    "当然，如果这是一个实际的项目，你会在你的机器学习项目当中，跟随以下步骤（见附录 B）：探索准备数据的候选方案，尝试多种模型，把最好的几个模型列为入围名单，用GridSearchCV调试超参数，尽可能地自动化，像你前面的章节做的那样。在这里，我们假设你已经找到一个不错的模型，你试图找到方法去改善它。一个方式是分析模型产生的误差的类型。"
   ]
  },
  {
   "cell_type": "code",
   "execution_count": 10,
   "metadata": {},
   "outputs": [
    {
     "name": "stdout",
     "output_type": "stream",
     "text": [
      "[[5659    1   47    7   20   72   56   24   33    4]\n",
      " [   1 6415   50   21    9   51    8   26  156    5]\n",
      " [  47   48 5317   43   98   34   75  114  168   14]\n",
      " [  36   27  246 4981   14  376   36  120  235   60]\n",
      " [  10   20   39   11 5266   21   72  117   52  234]\n",
      " [  53   34   53  186   82 4569  135   44  221   44]\n",
      " [  40   15   44    3   62  110 5579   10   53    2]\n",
      " [  24   23   70    9  101   25    5 5889   36   83]\n",
      " [  44  121  158  116   79  304   84   79 4779   87]\n",
      " [  37   19   32   67  505  143    7  524  109 4506]]\n"
     ]
    },
    {
     "data": {
      "image/png": "[encoded data removed]",
      "text/plain": [
       "<Figure size 288x288 with 1 Axes>"
      ]
     },
     "metadata": {},
     "output_type": "display_data"
    }
   ],
   "source": [
    "# 首先，你可以检查混淆矩阵。你需要使用cross_val_predict()做出预测，然后调用confusion_matrix()函数，像你早前做的那样。\n",
    "y_train_pred = cross_val_predict(sgd_clf, X_train, y_train, cv=3)\n",
    "conf_mx = confusion_matrix(y_train, y_train_pred)\n",
    "print(conf_mx)\n",
    "\n",
    "plt.matshow(conf_mx, cmap=plt.cm.gray)\n",
    "plt.show()"
   ]
  },
  {
   "cell_type": "code",
   "execution_count": null,
   "metadata": {},
   "outputs": [
    {
     "data": {
      "image/png": "[encoded data removed]",
      "text/plain": [
       "<Figure size 288x288 with 1 Axes>"
      ]
     },
     "metadata": {},
     "output_type": "display_data"
    }
   ],
   "source": [
    "# 这个混淆矩阵看起来相当好，因为大多数的图片在主对角线上。在主对角线上意味着被分类正确。数字 5 对应的格子看起来比其他数字要暗淡许多。\n",
    "# 这可能是数据集当中数字 5 的图片比较少，又或者是分类器对于数字 5 的表现不如其他数字那么好。你可以验证两种情况。\n",
    "row_sums = conf_mx.sum(axis=1, keepdims=True)\n",
    "norm_conf_mx = conf_mx / row_sums # 将混淆矩阵的每一个值除以相应类别的图片的总数目\n",
    "np.fill_diagonal(norm_conf_mx, 0) # 用 0 来填充对角线。这样子就只保留了被错误分类的数据\n",
    "plt.matshow(norm_conf_mx, cmap=plt.cm.gray)\n",
    "plt.show()\n",
    "# 现在你可以清楚看出分类器制造出来的各类误差。记住：行代表实际类别，列代表预测的类别。例如最亮的那个方块代表 3 被错认为了 5\n",
    "# 第 8、9 列相当亮，这告诉你许多图片被误分成数字 8 或者数字 9。相似的，第 8、9 行也相当亮，告诉你数字 8、数字 9 经常被误以为是其他数字。\n",
    "\n",
    "# 分析混淆矩阵通常可以给你提供深刻的见解去改善你的分类器。回顾这幅图，看样子你应该努力改善分类器在数字 8 、9 上的表现，和纠正 3、5 的混淆。\n",
    "# 举例子，你可以尝试去收集更多的数据，或者你可以构造新的、有助于分类器的特征。举例子，写一个算法去数闭合的环（比如，数字 8 有两个环，数字 6 有一个， 5 没有）。\n",
    "# 又或者你可以预处理图片（比如，使用 Scikit-Learn，Pillow， OpenCV）去构造一个模式，比如闭合的环。"
   ]
  },
  {
   "cell_type": "markdown",
   "metadata": {},
   "source": [
    "## 多标签分类"
   ]
  },
  {
   "cell_type": "code",
   "execution_count": null,
   "metadata": {},
   "outputs": [
    {
     "name": "stdout",
     "output_type": "stream",
     "text": [
      "[[False  True]]\n"
     ]
    }
   ],
   "source": [
    "# 先创造两个标签：第一个标签指出这个数字是否为大数字7，第二个标签指出这个数字是否是奇数\n",
    "from sklearn.neighbors import KNeighborsClassifier\n",
    "y_train_large = (y_train >= 7)\n",
    "y_train_odd = (y_train % 2 == 1)\n",
    "y_multilabel = np.c_[y_train_large, y_train_odd]\n",
    "knn_clf = KNeighborsClassifier()\n",
    "knn_clf.fit(X_train, y_multilabel)\n",
    "print(knn_clf.predict([some_digit])) # 9\n",
    "\n",
    "# 评估举例：下面的代码计算全部标签的平均 F1 值\n",
    "y_train_knn_pred = cross_val_predict(knn_clf, X_train, y_train, cv=3)\n",
    "print(f1_score(y_train, y_train_knn_pred, average=\"macro\"))# 这里假设所有标签有着同等的重要性, 否则应该设置average=\"weighted\""
   ]
  },
  {
   "cell_type": "code",
   "execution_count": null,
   "metadata": {
    "collapsed": true
   },
   "outputs": [],
   "source": []
  }
 ],
 "metadata": {
  "kernelspec": {
   "display_name": "Python [conda env:py36]",
   "language": "python",
   "name": "conda-env-py36-py"
  },
  "language_info": {
   "codemirror_mode": {
    "name": "ipython",
    "version": 3
   },
   "file_extension": ".py",
   "mimetype": "text/x-python",
   "name": "python",
   "nbconvert_exporter": "python",
   "pygments_lexer": "ipython3",
   "version": "3.6.2"
  }
 },
 "nbformat": 4,
 "nbformat_minor": 2
}
